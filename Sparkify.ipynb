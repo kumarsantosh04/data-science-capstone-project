{
 "cells": [
  {
   "cell_type": "markdown",
   "metadata": {},
   "source": [
    "# Sparkify Project Workspace\n",
    "This workspace contains a tiny subset (128MB) of the full dataset available (12GB). Feel free to use this workspace to build your project, or to explore a smaller subset with Spark before deploying your cluster on the cloud. Instructions for setting up your Spark cluster is included in the last lesson of the Extracurricular Spark Course content.\n",
    "\n",
    "You can follow the steps below to guide your data analysis and model building portion of this project."
   ]
  },
  {
   "cell_type": "code",
   "execution_count": 1,
   "metadata": {},
   "outputs": [
    {
     "name": "stdout",
     "output_type": "stream",
     "text": [
      "2.4.3\n"
     ]
    }
   ],
   "source": [
    "# import libraries\n",
    "import pyspark\n",
    "print(pyspark.__version__)\n",
    "from pyspark.sql import SparkSession \n",
    "from pyspark.sql import functions as F \n",
    "import matplotlib.pyplot as plt\n",
    "import seaborn as sns\n",
    "import numpy as np\n",
    "import pandas as pd\n",
    "\n",
    "from pyspark.sql.types import StringType\n",
    "from pyspark.sql.functions import udf\n",
    "from pyspark.sql.window import Window\n",
    "from pyspark.ml import Pipeline\n",
    "from pyspark.ml.feature import MinMaxScaler, VectorAssembler\n",
    "from pyspark.ml.classification import LogisticRegression, RandomForestClassifier, GBTClassifier, DecisionTreeClassifier, NaiveBayes\n",
    "from pyspark.ml.evaluation import MulticlassClassificationEvaluator\n",
    "from pyspark.ml.tuning import CrossValidator, ParamGridBuilder"
   ]
  },
  {
   "cell_type": "code",
   "execution_count": 2,
   "metadata": {},
   "outputs": [],
   "source": [
    "# create a Spark session\n",
    "spark = SparkSession\\\n",
    "    .builder\\\n",
    "    .appName(\"customer-churn\")\\\n",
    "    .getOrCreate()"
   ]
  },
  {
   "cell_type": "code",
   "execution_count": 3,
   "metadata": {},
   "outputs": [
    {
     "data": {
      "text/html": [
       "\n",
       "            <div>\n",
       "                <p><b>SparkSession - in-memory</b></p>\n",
       "                \n",
       "        <div>\n",
       "            <p><b>SparkContext</b></p>\n",
       "\n",
       "            <p><a href=\"http://e2aae0796333:4040\">Spark UI</a></p>\n",
       "\n",
       "            <dl>\n",
       "              <dt>Version</dt>\n",
       "                <dd><code>v2.4.3</code></dd>\n",
       "              <dt>Master</dt>\n",
       "                <dd><code>local[*]</code></dd>\n",
       "              <dt>AppName</dt>\n",
       "                <dd><code>customer-churn</code></dd>\n",
       "            </dl>\n",
       "        </div>\n",
       "        \n",
       "            </div>\n",
       "        "
      ],
      "text/plain": [
       "<pyspark.sql.session.SparkSession at 0x7fc9876f0eb8>"
      ]
     },
     "execution_count": 3,
     "metadata": {},
     "output_type": "execute_result"
    }
   ],
   "source": [
    "spark"
   ]
  },
  {
   "cell_type": "markdown",
   "metadata": {},
   "source": [
    "# Load and Clean Dataset\n",
    "In this workspace, the mini-dataset file is `mini_sparkify_event_data.json`. Load and clean the dataset, checking for invalid or missing data - for example, records without userids or sessionids. "
   ]
  },
  {
   "cell_type": "code",
   "execution_count": 4,
   "metadata": {},
   "outputs": [],
   "source": [
    "# reading data from json\n",
    "event_df = spark.read.json('mini_sparkify_event_data.json')"
   ]
  },
  {
   "cell_type": "markdown",
   "metadata": {},
   "source": [
    "Lets just quicky view a portion of data"
   ]
  },
  {
   "cell_type": "code",
   "execution_count": 5,
   "metadata": {},
   "outputs": [
    {
     "data": {
      "text/html": [
       "<div>\n",
       "<style scoped>\n",
       "    .dataframe tbody tr th:only-of-type {\n",
       "        vertical-align: middle;\n",
       "    }\n",
       "\n",
       "    .dataframe tbody tr th {\n",
       "        vertical-align: top;\n",
       "    }\n",
       "\n",
       "    .dataframe thead th {\n",
       "        text-align: right;\n",
       "    }\n",
       "</style>\n",
       "<table border=\"1\" class=\"dataframe\">\n",
       "  <thead>\n",
       "    <tr style=\"text-align: right;\">\n",
       "      <th></th>\n",
       "      <th>artist</th>\n",
       "      <th>auth</th>\n",
       "      <th>firstName</th>\n",
       "      <th>gender</th>\n",
       "      <th>itemInSession</th>\n",
       "      <th>lastName</th>\n",
       "      <th>length</th>\n",
       "      <th>level</th>\n",
       "      <th>location</th>\n",
       "      <th>method</th>\n",
       "      <th>page</th>\n",
       "      <th>registration</th>\n",
       "      <th>sessionId</th>\n",
       "      <th>song</th>\n",
       "      <th>status</th>\n",
       "      <th>ts</th>\n",
       "      <th>userAgent</th>\n",
       "      <th>userId</th>\n",
       "    </tr>\n",
       "  </thead>\n",
       "  <tbody>\n",
       "    <tr>\n",
       "      <th>0</th>\n",
       "      <td>Martha Tilston</td>\n",
       "      <td>Logged In</td>\n",
       "      <td>Colin</td>\n",
       "      <td>M</td>\n",
       "      <td>50</td>\n",
       "      <td>Freeman</td>\n",
       "      <td>277.89016</td>\n",
       "      <td>paid</td>\n",
       "      <td>Bakersfield, CA</td>\n",
       "      <td>PUT</td>\n",
       "      <td>NextSong</td>\n",
       "      <td>1538173362000</td>\n",
       "      <td>29</td>\n",
       "      <td>Rockpools</td>\n",
       "      <td>200</td>\n",
       "      <td>1538352117000</td>\n",
       "      <td>Mozilla/5.0 (Windows NT 6.1; WOW64; rv:31.0) G...</td>\n",
       "      <td>30</td>\n",
       "    </tr>\n",
       "    <tr>\n",
       "      <th>1</th>\n",
       "      <td>Five Iron Frenzy</td>\n",
       "      <td>Logged In</td>\n",
       "      <td>Micah</td>\n",
       "      <td>M</td>\n",
       "      <td>79</td>\n",
       "      <td>Long</td>\n",
       "      <td>236.09424</td>\n",
       "      <td>free</td>\n",
       "      <td>Boston-Cambridge-Newton, MA-NH</td>\n",
       "      <td>PUT</td>\n",
       "      <td>NextSong</td>\n",
       "      <td>1538331630000</td>\n",
       "      <td>8</td>\n",
       "      <td>Canada</td>\n",
       "      <td>200</td>\n",
       "      <td>1538352180000</td>\n",
       "      <td>\"Mozilla/5.0 (Windows NT 6.1; WOW64) AppleWebK...</td>\n",
       "      <td>9</td>\n",
       "    </tr>\n",
       "    <tr>\n",
       "      <th>2</th>\n",
       "      <td>Adam Lambert</td>\n",
       "      <td>Logged In</td>\n",
       "      <td>Colin</td>\n",
       "      <td>M</td>\n",
       "      <td>51</td>\n",
       "      <td>Freeman</td>\n",
       "      <td>282.82730</td>\n",
       "      <td>paid</td>\n",
       "      <td>Bakersfield, CA</td>\n",
       "      <td>PUT</td>\n",
       "      <td>NextSong</td>\n",
       "      <td>1538173362000</td>\n",
       "      <td>29</td>\n",
       "      <td>Time For Miracles</td>\n",
       "      <td>200</td>\n",
       "      <td>1538352394000</td>\n",
       "      <td>Mozilla/5.0 (Windows NT 6.1; WOW64; rv:31.0) G...</td>\n",
       "      <td>30</td>\n",
       "    </tr>\n",
       "    <tr>\n",
       "      <th>3</th>\n",
       "      <td>Enigma</td>\n",
       "      <td>Logged In</td>\n",
       "      <td>Micah</td>\n",
       "      <td>M</td>\n",
       "      <td>80</td>\n",
       "      <td>Long</td>\n",
       "      <td>262.71302</td>\n",
       "      <td>free</td>\n",
       "      <td>Boston-Cambridge-Newton, MA-NH</td>\n",
       "      <td>PUT</td>\n",
       "      <td>NextSong</td>\n",
       "      <td>1538331630000</td>\n",
       "      <td>8</td>\n",
       "      <td>Knocking On Forbidden Doors</td>\n",
       "      <td>200</td>\n",
       "      <td>1538352416000</td>\n",
       "      <td>\"Mozilla/5.0 (Windows NT 6.1; WOW64) AppleWebK...</td>\n",
       "      <td>9</td>\n",
       "    </tr>\n",
       "    <tr>\n",
       "      <th>4</th>\n",
       "      <td>Daft Punk</td>\n",
       "      <td>Logged In</td>\n",
       "      <td>Colin</td>\n",
       "      <td>M</td>\n",
       "      <td>52</td>\n",
       "      <td>Freeman</td>\n",
       "      <td>223.60771</td>\n",
       "      <td>paid</td>\n",
       "      <td>Bakersfield, CA</td>\n",
       "      <td>PUT</td>\n",
       "      <td>NextSong</td>\n",
       "      <td>1538173362000</td>\n",
       "      <td>29</td>\n",
       "      <td>Harder Better Faster Stronger</td>\n",
       "      <td>200</td>\n",
       "      <td>1538352676000</td>\n",
       "      <td>Mozilla/5.0 (Windows NT 6.1; WOW64; rv:31.0) G...</td>\n",
       "      <td>30</td>\n",
       "    </tr>\n",
       "    <tr>\n",
       "      <th>5</th>\n",
       "      <td>The All-American Rejects</td>\n",
       "      <td>Logged In</td>\n",
       "      <td>Micah</td>\n",
       "      <td>M</td>\n",
       "      <td>81</td>\n",
       "      <td>Long</td>\n",
       "      <td>208.29995</td>\n",
       "      <td>free</td>\n",
       "      <td>Boston-Cambridge-Newton, MA-NH</td>\n",
       "      <td>PUT</td>\n",
       "      <td>NextSong</td>\n",
       "      <td>1538331630000</td>\n",
       "      <td>8</td>\n",
       "      <td>Don't Leave Me</td>\n",
       "      <td>200</td>\n",
       "      <td>1538352678000</td>\n",
       "      <td>\"Mozilla/5.0 (Windows NT 6.1; WOW64) AppleWebK...</td>\n",
       "      <td>9</td>\n",
       "    </tr>\n",
       "    <tr>\n",
       "      <th>6</th>\n",
       "      <td>The Velvet Underground / Nico</td>\n",
       "      <td>Logged In</td>\n",
       "      <td>Micah</td>\n",
       "      <td>M</td>\n",
       "      <td>82</td>\n",
       "      <td>Long</td>\n",
       "      <td>260.46649</td>\n",
       "      <td>free</td>\n",
       "      <td>Boston-Cambridge-Newton, MA-NH</td>\n",
       "      <td>PUT</td>\n",
       "      <td>NextSong</td>\n",
       "      <td>1538331630000</td>\n",
       "      <td>8</td>\n",
       "      <td>Run Run Run</td>\n",
       "      <td>200</td>\n",
       "      <td>1538352886000</td>\n",
       "      <td>\"Mozilla/5.0 (Windows NT 6.1; WOW64) AppleWebK...</td>\n",
       "      <td>9</td>\n",
       "    </tr>\n",
       "    <tr>\n",
       "      <th>7</th>\n",
       "      <td>Starflyer 59</td>\n",
       "      <td>Logged In</td>\n",
       "      <td>Colin</td>\n",
       "      <td>M</td>\n",
       "      <td>53</td>\n",
       "      <td>Freeman</td>\n",
       "      <td>185.44281</td>\n",
       "      <td>paid</td>\n",
       "      <td>Bakersfield, CA</td>\n",
       "      <td>PUT</td>\n",
       "      <td>NextSong</td>\n",
       "      <td>1538173362000</td>\n",
       "      <td>29</td>\n",
       "      <td>Passengers (Old Album Version)</td>\n",
       "      <td>200</td>\n",
       "      <td>1538352899000</td>\n",
       "      <td>Mozilla/5.0 (Windows NT 6.1; WOW64; rv:31.0) G...</td>\n",
       "      <td>30</td>\n",
       "    </tr>\n",
       "    <tr>\n",
       "      <th>8</th>\n",
       "      <td>None</td>\n",
       "      <td>Logged In</td>\n",
       "      <td>Colin</td>\n",
       "      <td>M</td>\n",
       "      <td>54</td>\n",
       "      <td>Freeman</td>\n",
       "      <td>NaN</td>\n",
       "      <td>paid</td>\n",
       "      <td>Bakersfield, CA</td>\n",
       "      <td>PUT</td>\n",
       "      <td>Add to Playlist</td>\n",
       "      <td>1538173362000</td>\n",
       "      <td>29</td>\n",
       "      <td>None</td>\n",
       "      <td>200</td>\n",
       "      <td>1538352905000</td>\n",
       "      <td>Mozilla/5.0 (Windows NT 6.1; WOW64; rv:31.0) G...</td>\n",
       "      <td>30</td>\n",
       "    </tr>\n",
       "    <tr>\n",
       "      <th>9</th>\n",
       "      <td>Frumpies</td>\n",
       "      <td>Logged In</td>\n",
       "      <td>Colin</td>\n",
       "      <td>M</td>\n",
       "      <td>55</td>\n",
       "      <td>Freeman</td>\n",
       "      <td>134.47791</td>\n",
       "      <td>paid</td>\n",
       "      <td>Bakersfield, CA</td>\n",
       "      <td>PUT</td>\n",
       "      <td>NextSong</td>\n",
       "      <td>1538173362000</td>\n",
       "      <td>29</td>\n",
       "      <td>Fuck Kitty</td>\n",
       "      <td>200</td>\n",
       "      <td>1538353084000</td>\n",
       "      <td>Mozilla/5.0 (Windows NT 6.1; WOW64; rv:31.0) G...</td>\n",
       "      <td>30</td>\n",
       "    </tr>\n",
       "  </tbody>\n",
       "</table>\n",
       "</div>"
      ],
      "text/plain": [
       "                          artist       auth firstName gender  itemInSession  \\\n",
       "0                 Martha Tilston  Logged In     Colin      M             50   \n",
       "1               Five Iron Frenzy  Logged In     Micah      M             79   \n",
       "2                   Adam Lambert  Logged In     Colin      M             51   \n",
       "3                         Enigma  Logged In     Micah      M             80   \n",
       "4                      Daft Punk  Logged In     Colin      M             52   \n",
       "5       The All-American Rejects  Logged In     Micah      M             81   \n",
       "6  The Velvet Underground / Nico  Logged In     Micah      M             82   \n",
       "7                   Starflyer 59  Logged In     Colin      M             53   \n",
       "8                           None  Logged In     Colin      M             54   \n",
       "9                       Frumpies  Logged In     Colin      M             55   \n",
       "\n",
       "  lastName     length level                        location method  \\\n",
       "0  Freeman  277.89016  paid                 Bakersfield, CA    PUT   \n",
       "1     Long  236.09424  free  Boston-Cambridge-Newton, MA-NH    PUT   \n",
       "2  Freeman  282.82730  paid                 Bakersfield, CA    PUT   \n",
       "3     Long  262.71302  free  Boston-Cambridge-Newton, MA-NH    PUT   \n",
       "4  Freeman  223.60771  paid                 Bakersfield, CA    PUT   \n",
       "5     Long  208.29995  free  Boston-Cambridge-Newton, MA-NH    PUT   \n",
       "6     Long  260.46649  free  Boston-Cambridge-Newton, MA-NH    PUT   \n",
       "7  Freeman  185.44281  paid                 Bakersfield, CA    PUT   \n",
       "8  Freeman        NaN  paid                 Bakersfield, CA    PUT   \n",
       "9  Freeman  134.47791  paid                 Bakersfield, CA    PUT   \n",
       "\n",
       "              page   registration  sessionId                            song  \\\n",
       "0         NextSong  1538173362000         29                       Rockpools   \n",
       "1         NextSong  1538331630000          8                          Canada   \n",
       "2         NextSong  1538173362000         29               Time For Miracles   \n",
       "3         NextSong  1538331630000          8     Knocking On Forbidden Doors   \n",
       "4         NextSong  1538173362000         29   Harder Better Faster Stronger   \n",
       "5         NextSong  1538331630000          8                  Don't Leave Me   \n",
       "6         NextSong  1538331630000          8                     Run Run Run   \n",
       "7         NextSong  1538173362000         29  Passengers (Old Album Version)   \n",
       "8  Add to Playlist  1538173362000         29                            None   \n",
       "9         NextSong  1538173362000         29                      Fuck Kitty   \n",
       "\n",
       "   status             ts                                          userAgent  \\\n",
       "0     200  1538352117000  Mozilla/5.0 (Windows NT 6.1; WOW64; rv:31.0) G...   \n",
       "1     200  1538352180000  \"Mozilla/5.0 (Windows NT 6.1; WOW64) AppleWebK...   \n",
       "2     200  1538352394000  Mozilla/5.0 (Windows NT 6.1; WOW64; rv:31.0) G...   \n",
       "3     200  1538352416000  \"Mozilla/5.0 (Windows NT 6.1; WOW64) AppleWebK...   \n",
       "4     200  1538352676000  Mozilla/5.0 (Windows NT 6.1; WOW64; rv:31.0) G...   \n",
       "5     200  1538352678000  \"Mozilla/5.0 (Windows NT 6.1; WOW64) AppleWebK...   \n",
       "6     200  1538352886000  \"Mozilla/5.0 (Windows NT 6.1; WOW64) AppleWebK...   \n",
       "7     200  1538352899000  Mozilla/5.0 (Windows NT 6.1; WOW64; rv:31.0) G...   \n",
       "8     200  1538352905000  Mozilla/5.0 (Windows NT 6.1; WOW64; rv:31.0) G...   \n",
       "9     200  1538353084000  Mozilla/5.0 (Windows NT 6.1; WOW64; rv:31.0) G...   \n",
       "\n",
       "  userId  \n",
       "0     30  \n",
       "1      9  \n",
       "2     30  \n",
       "3      9  \n",
       "4     30  \n",
       "5      9  \n",
       "6      9  \n",
       "7     30  \n",
       "8     30  \n",
       "9     30  "
      ]
     },
     "execution_count": 5,
     "metadata": {},
     "output_type": "execute_result"
    }
   ],
   "source": [
    "event_df.limit(10).toPandas()"
   ]
  },
  {
   "cell_type": "markdown",
   "metadata": {},
   "source": [
    "Looking for total number of events triggered"
   ]
  },
  {
   "cell_type": "code",
   "execution_count": 6,
   "metadata": {},
   "outputs": [
    {
     "data": {
      "text/plain": [
       "286500"
      ]
     },
     "execution_count": 6,
     "metadata": {},
     "output_type": "execute_result"
    }
   ],
   "source": [
    "event_df.count()"
   ]
  },
  {
   "cell_type": "markdown",
   "metadata": {},
   "source": [
    "# Exploratory Data Analysis\n",
    "When you're working with the full dataset, perform EDA by loading a small subset of the data and doing basic manipulations within Spark. In this workspace, you are already provided a small subset of data you can explore.\n"
   ]
  },
  {
   "cell_type": "markdown",
   "metadata": {},
   "source": [
    "\n",
    "### Define Churn\n",
    "\n",
    "Once you've done some preliminary analysis, create a column `Churn` to use as the label for your model. I suggest using the `Cancellation Confirmation` events to define your churn, which happen for both paid and free users. As a bonus task, you can also look into the `Downgrade` events."
   ]
  },
  {
   "cell_type": "code",
   "execution_count": 7,
   "metadata": {},
   "outputs": [
    {
     "name": "stdout",
     "output_type": "stream",
     "text": [
      "+-----+------+\n",
      "|churn| count|\n",
      "+-----+------+\n",
      "|    1| 44864|\n",
      "|    0|241636|\n",
      "+-----+------+\n",
      "\n"
     ]
    }
   ],
   "source": [
    "# any user is marked as churn if in future or in past, \n",
    "# he has cancelled subscription, say churn_event,\n",
    "# i.e. triggered event Cancellation Confirmation\n",
    "\n",
    "user_window = Window.partitionBy(\"userId\")\n",
    "\n",
    "event_df = event_df.withColumn(\"churn_event\", F.when(F.col(\"page\") == 'Cancellation Confirmation', 1).otherwise(0))\n",
    "event_df = event_df.withColumn(\"churn\", (F.sum('churn_event').over(user_window) > F.lit(0)).cast(\"int\"))\n",
    "event_df = event_df.drop(\"churn_event\")\n",
    "\n",
    "event_df.groupby(\"churn\").count().show()"
   ]
  },
  {
   "cell_type": "markdown",
   "metadata": {},
   "source": [
    "### Explore Data\n",
    "\n",
    "Once you've defined churn, perform some exploratory data analysis to observe the behavior for users who stayed vs users who churned. You can start by exploring aggregates on these two groups of users, observing how much of a specific action they experienced per a certain time unit or number of songs played."
   ]
  },
  {
   "cell_type": "markdown",
   "metadata": {},
   "source": [
    "printing schema of event df"
   ]
  },
  {
   "cell_type": "code",
   "execution_count": 8,
   "metadata": {},
   "outputs": [
    {
     "name": "stdout",
     "output_type": "stream",
     "text": [
      "root\n",
      " |-- artist: string (nullable = true)\n",
      " |-- auth: string (nullable = true)\n",
      " |-- firstName: string (nullable = true)\n",
      " |-- gender: string (nullable = true)\n",
      " |-- itemInSession: long (nullable = true)\n",
      " |-- lastName: string (nullable = true)\n",
      " |-- length: double (nullable = true)\n",
      " |-- level: string (nullable = true)\n",
      " |-- location: string (nullable = true)\n",
      " |-- method: string (nullable = true)\n",
      " |-- page: string (nullable = true)\n",
      " |-- registration: long (nullable = true)\n",
      " |-- sessionId: long (nullable = true)\n",
      " |-- song: string (nullable = true)\n",
      " |-- status: long (nullable = true)\n",
      " |-- ts: long (nullable = true)\n",
      " |-- userAgent: string (nullable = true)\n",
      " |-- userId: string (nullable = true)\n",
      " |-- churn: integer (nullable = true)\n",
      "\n"
     ]
    }
   ],
   "source": [
    "event_df.printSchema()"
   ]
  },
  {
   "cell_type": "markdown",
   "metadata": {},
   "source": [
    "Printing number of users, artists, songs, pages, userAgent and itemInSession in dataset"
   ]
  },
  {
   "cell_type": "code",
   "execution_count": 9,
   "metadata": {},
   "outputs": [
    {
     "data": {
      "text/html": [
       "<div>\n",
       "<style scoped>\n",
       "    .dataframe tbody tr th:only-of-type {\n",
       "        vertical-align: middle;\n",
       "    }\n",
       "\n",
       "    .dataframe tbody tr th {\n",
       "        vertical-align: top;\n",
       "    }\n",
       "\n",
       "    .dataframe thead th {\n",
       "        text-align: right;\n",
       "    }\n",
       "</style>\n",
       "<table border=\"1\" class=\"dataframe\">\n",
       "  <thead>\n",
       "    <tr style=\"text-align: right;\">\n",
       "      <th></th>\n",
       "      <th>count(DISTINCT userId)</th>\n",
       "      <th>count(DISTINCT artist)</th>\n",
       "      <th>count(DISTINCT song)</th>\n",
       "      <th>count(DISTINCT page)</th>\n",
       "      <th>count(DISTINCT userAgent)</th>\n",
       "      <th>count(DISTINCT itemInSession)</th>\n",
       "    </tr>\n",
       "  </thead>\n",
       "  <tbody>\n",
       "    <tr>\n",
       "      <th>0</th>\n",
       "      <td>226</td>\n",
       "      <td>17655</td>\n",
       "      <td>58480</td>\n",
       "      <td>22</td>\n",
       "      <td>56</td>\n",
       "      <td>1322</td>\n",
       "    </tr>\n",
       "  </tbody>\n",
       "</table>\n",
       "</div>"
      ],
      "text/plain": [
       "   count(DISTINCT userId)  count(DISTINCT artist)  count(DISTINCT song)  \\\n",
       "0                     226                   17655                 58480   \n",
       "\n",
       "   count(DISTINCT page)  count(DISTINCT userAgent)  \\\n",
       "0                    22                         56   \n",
       "\n",
       "   count(DISTINCT itemInSession)  \n",
       "0                           1322  "
      ]
     },
     "execution_count": 9,
     "metadata": {},
     "output_type": "execute_result"
    }
   ],
   "source": [
    "event_df.agg(F.countDistinct(\"userId\"), \n",
    "             F.countDistinct(\"artist\"), \n",
    "             F.countDistinct(\"song\"), \n",
    "             F.countDistinct(\"page\"), \n",
    "             F.countDistinct(\"userAgent\"), \n",
    "             F.countDistinct(\"itemInSession\")).toPandas()"
   ]
  },
  {
   "cell_type": "markdown",
   "metadata": {},
   "source": [
    "Describing the dataframe"
   ]
  },
  {
   "cell_type": "code",
   "execution_count": 10,
   "metadata": {},
   "outputs": [
    {
     "data": {
      "text/html": [
       "<div>\n",
       "<style scoped>\n",
       "    .dataframe tbody tr th:only-of-type {\n",
       "        vertical-align: middle;\n",
       "    }\n",
       "\n",
       "    .dataframe tbody tr th {\n",
       "        vertical-align: top;\n",
       "    }\n",
       "\n",
       "    .dataframe thead th {\n",
       "        text-align: right;\n",
       "    }\n",
       "</style>\n",
       "<table border=\"1\" class=\"dataframe\">\n",
       "  <thead>\n",
       "    <tr style=\"text-align: right;\">\n",
       "      <th></th>\n",
       "      <th>summary</th>\n",
       "      <th>artist</th>\n",
       "      <th>auth</th>\n",
       "      <th>firstName</th>\n",
       "      <th>gender</th>\n",
       "      <th>itemInSession</th>\n",
       "      <th>lastName</th>\n",
       "      <th>length</th>\n",
       "      <th>level</th>\n",
       "      <th>location</th>\n",
       "      <th>method</th>\n",
       "      <th>page</th>\n",
       "      <th>registration</th>\n",
       "      <th>sessionId</th>\n",
       "      <th>song</th>\n",
       "      <th>status</th>\n",
       "      <th>ts</th>\n",
       "      <th>userAgent</th>\n",
       "      <th>userId</th>\n",
       "      <th>churn</th>\n",
       "    </tr>\n",
       "  </thead>\n",
       "  <tbody>\n",
       "    <tr>\n",
       "      <th>0</th>\n",
       "      <td>count</td>\n",
       "      <td>228108</td>\n",
       "      <td>286500</td>\n",
       "      <td>278154</td>\n",
       "      <td>278154</td>\n",
       "      <td>286500</td>\n",
       "      <td>278154</td>\n",
       "      <td>228108</td>\n",
       "      <td>286500</td>\n",
       "      <td>278154</td>\n",
       "      <td>286500</td>\n",
       "      <td>286500</td>\n",
       "      <td>278154</td>\n",
       "      <td>286500</td>\n",
       "      <td>228108</td>\n",
       "      <td>286500</td>\n",
       "      <td>286500</td>\n",
       "      <td>278154</td>\n",
       "      <td>286500</td>\n",
       "      <td>286500</td>\n",
       "    </tr>\n",
       "    <tr>\n",
       "      <th>1</th>\n",
       "      <td>mean</td>\n",
       "      <td>551.0852017937219</td>\n",
       "      <td>None</td>\n",
       "      <td>None</td>\n",
       "      <td>None</td>\n",
       "      <td>114.41421291448516</td>\n",
       "      <td>None</td>\n",
       "      <td>249.1171819778349</td>\n",
       "      <td>None</td>\n",
       "      <td>None</td>\n",
       "      <td>None</td>\n",
       "      <td>None</td>\n",
       "      <td>1.535358834085557E12</td>\n",
       "      <td>1041.526554973822</td>\n",
       "      <td>Infinity</td>\n",
       "      <td>210.05459685863875</td>\n",
       "      <td>1.5409568898104714E12</td>\n",
       "      <td>None</td>\n",
       "      <td>59682.02278593872</td>\n",
       "      <td>0.1565933682373473</td>\n",
       "    </tr>\n",
       "    <tr>\n",
       "      <th>2</th>\n",
       "      <td>stddev</td>\n",
       "      <td>1217.7693079161377</td>\n",
       "      <td>None</td>\n",
       "      <td>None</td>\n",
       "      <td>None</td>\n",
       "      <td>129.7672620114112</td>\n",
       "      <td>None</td>\n",
       "      <td>99.23517921058327</td>\n",
       "      <td>None</td>\n",
       "      <td>None</td>\n",
       "      <td>None</td>\n",
       "      <td>None</td>\n",
       "      <td>3.2913216163273053E9</td>\n",
       "      <td>726.7762634630808</td>\n",
       "      <td>NaN</td>\n",
       "      <td>31.50507848842204</td>\n",
       "      <td>1.5075439608197575E9</td>\n",
       "      <td>None</td>\n",
       "      <td>109091.94999910559</td>\n",
       "      <td>0.36341759209885743</td>\n",
       "    </tr>\n",
       "    <tr>\n",
       "      <th>3</th>\n",
       "      <td>min</td>\n",
       "      <td>!!!</td>\n",
       "      <td>Cancelled</td>\n",
       "      <td>Adelaida</td>\n",
       "      <td>F</td>\n",
       "      <td>0</td>\n",
       "      <td>Adams</td>\n",
       "      <td>0.78322</td>\n",
       "      <td>free</td>\n",
       "      <td>Albany, OR</td>\n",
       "      <td>GET</td>\n",
       "      <td>About</td>\n",
       "      <td>1521380675000</td>\n",
       "      <td>1</td>\n",
       "      <td>ÃÂg ÃÂtti GrÃÂ¡a ÃÂsku</td>\n",
       "      <td>200</td>\n",
       "      <td>1538352117000</td>\n",
       "      <td>\"Mozilla/5.0 (Macintosh; Intel Mac OS X 10_10)...</td>\n",
       "      <td></td>\n",
       "      <td>0</td>\n",
       "    </tr>\n",
       "    <tr>\n",
       "      <th>4</th>\n",
       "      <td>max</td>\n",
       "      <td>ÃÂlafur Arnalds</td>\n",
       "      <td>Logged Out</td>\n",
       "      <td>Zyonna</td>\n",
       "      <td>M</td>\n",
       "      <td>1321</td>\n",
       "      <td>Wright</td>\n",
       "      <td>3024.66567</td>\n",
       "      <td>paid</td>\n",
       "      <td>Winston-Salem, NC</td>\n",
       "      <td>PUT</td>\n",
       "      <td>Upgrade</td>\n",
       "      <td>1543247354000</td>\n",
       "      <td>2474</td>\n",
       "      <td>ÃÂau hafa sloppiÃÂ° undan ÃÂ¾unga myrkursins</td>\n",
       "      <td>404</td>\n",
       "      <td>1543799476000</td>\n",
       "      <td>Mozilla/5.0 (compatible; MSIE 9.0; Windows NT ...</td>\n",
       "      <td>99</td>\n",
       "      <td>1</td>\n",
       "    </tr>\n",
       "  </tbody>\n",
       "</table>\n",
       "</div>"
      ],
      "text/plain": [
       "  summary              artist        auth firstName  gender  \\\n",
       "0   count              228108      286500    278154  278154   \n",
       "1    mean   551.0852017937219        None      None    None   \n",
       "2  stddev  1217.7693079161377        None      None    None   \n",
       "3     min                 !!!   Cancelled  Adelaida       F   \n",
       "4     max   ÃÂlafur Arnalds  Logged Out    Zyonna       M   \n",
       "\n",
       "        itemInSession lastName             length   level           location  \\\n",
       "0              286500   278154             228108  286500             278154   \n",
       "1  114.41421291448516     None  249.1171819778349    None               None   \n",
       "2   129.7672620114112     None  99.23517921058327    None               None   \n",
       "3                   0    Adams            0.78322    free         Albany, OR   \n",
       "4                1321   Wright         3024.66567    paid  Winston-Salem, NC   \n",
       "\n",
       "   method     page          registration          sessionId  \\\n",
       "0  286500   286500                278154             286500   \n",
       "1    None     None  1.535358834085557E12  1041.526554973822   \n",
       "2    None     None  3.2913216163273053E9  726.7762634630808   \n",
       "3     GET    About         1521380675000                  1   \n",
       "4     PUT  Upgrade         1543247354000               2474   \n",
       "\n",
       "                                               song              status  \\\n",
       "0                                            228108              286500   \n",
       "1                                          Infinity  210.05459685863875   \n",
       "2                                               NaN   31.50507848842204   \n",
       "3                    \n",
       "ÃÂg ÃÂtti GrÃÂ¡a ÃÂsku                 200   \n",
       "4  ÃÂau hafa sloppiÃÂ° undan ÃÂ¾unga myrkursins                 404   \n",
       "\n",
       "                      ts                                          userAgent  \\\n",
       "0                 286500                                             278154   \n",
       "1  1.5409568898104714E12                                               None   \n",
       "2   1.5075439608197575E9                                               None   \n",
       "3          1538352117000  \"Mozilla/5.0 (Macintosh; Intel Mac OS X 10_10)...   \n",
       "4          1543799476000  Mozilla/5.0 (compatible; MSIE 9.0; Windows NT ...   \n",
       "\n",
       "               userId                churn  \n",
       "0              286500               286500  \n",
       "1   59682.02278593872   0.1565933682373473  \n",
       "2  109091.94999910559  0.36341759209885743  \n",
       "3                                        0  \n",
       "4                  99                    1  "
      ]
     },
     "execution_count": 10,
     "metadata": {},
     "output_type": "execute_result"
    }
   ],
   "source": [
    "event_df.describe().toPandas()"
   ]
  },
  {
   "cell_type": "markdown",
   "metadata": {},
   "source": [
    "- there are some nulls in dataframe, considering 286500 event count we got earlier, and looking for count row, we can see that most of the data is present\n",
    "- we have some numeric as well as categorical vriable\n",
    "- Some of them are:\n",
    "    - categorical\n",
    "        - auth\n",
    "        - gender\n",
    "        - level\n",
    "        - method\n",
    "        - page\n",
    "        - status\n",
    "        - userAgent\n",
    "    - numeric\n",
    "        - sessionId\n",
    "        - itemInSession\n",
    "        - length\n",
    "        - timestamp"
   ]
  },
  {
   "cell_type": "code",
   "execution_count": 11,
   "metadata": {
    "scrolled": true
   },
   "outputs": [
    {
     "data": {
      "text/html": [
       "<div>\n",
       "<style scoped>\n",
       "    .dataframe tbody tr th:only-of-type {\n",
       "        vertical-align: middle;\n",
       "    }\n",
       "\n",
       "    .dataframe tbody tr th {\n",
       "        vertical-align: top;\n",
       "    }\n",
       "\n",
       "    .dataframe thead th {\n",
       "        text-align: right;\n",
       "    }\n",
       "</style>\n",
       "<table border=\"1\" class=\"dataframe\">\n",
       "  <thead>\n",
       "    <tr style=\"text-align: right;\">\n",
       "      <th></th>\n",
       "      <th>collect_set(auth)</th>\n",
       "      <th>collect_set(gender)</th>\n",
       "      <th>collect_set(level)</th>\n",
       "      <th>collect_set(method)</th>\n",
       "      <th>collect_set(status)</th>\n",
       "      <th>collect_set(page)</th>\n",
       "    </tr>\n",
       "  </thead>\n",
       "  <tbody>\n",
       "    <tr>\n",
       "      <th>0</th>\n",
       "      <td>[Logged In, Cancelled, Logged Out, Guest]</td>\n",
       "      <td>[F, M]</td>\n",
       "      <td>[free, paid]</td>\n",
       "      <td>[PUT, GET]</td>\n",
       "      <td>[404, 307, 200]</td>\n",
       "      <td>[Login, Submit Downgrade, Thumbs Down, Add to Playlist, NextSong, Submit Registration, Upgrade, Logout, Thumbs Up, Register, Add Friend, Help, Submit Upgrade, Cancellation Confirmation, Downgrade, Error, Cancel, Home, About, Save Settings, Settings, Roll Advert]</td>\n",
       "    </tr>\n",
       "  </tbody>\n",
       "</table>\n",
       "</div>"
      ],
      "text/plain": [
       "                           collect_set(auth) collect_set(gender)  \\\n",
       "0  [Logged In, Cancelled, Logged Out, Guest]              [F, M]   \n",
       "\n",
       "  collect_set(level) collect_set(method) collect_set(status)  \\\n",
       "0       [free, paid]          [PUT, GET]     [404, 307, 200]   \n",
       "\n",
       "                                                                                                                                                                                                                                                        collect_set(page)  \n",
       "0  [Login, Submit Downgrade, Thumbs Down, Add to Playlist, NextSong, Submit Registration, Upgrade, Logout, Thumbs Up, Register, Add Friend, Help, Submit Upgrade, Cancellation Confirmation, Downgrade, Error, Cancel, Home, About, Save Settings, Settings, Roll Advert]  "
      ]
     },
     "execution_count": 11,
     "metadata": {},
     "output_type": "execute_result"
    }
   ],
   "source": [
    "pd.set_option('display.max_colwidth', 500)\n",
    "\n",
    "event_df.agg(F.collect_set(\"auth\"), \n",
    "             F.collect_set(\"gender\"), \n",
    "             F.collect_set(\"level\"), \n",
    "             F.collect_set(\"method\"), \n",
    "             F.collect_set(\"status\"), \n",
    "             F.collect_set(\"page\")).toPandas()"
   ]
  },
  {
   "cell_type": "markdown",
   "metadata": {},
   "source": [
    "Lets look at the browser used"
   ]
  },
  {
   "cell_type": "code",
   "execution_count": 12,
   "metadata": {},
   "outputs": [
    {
     "name": "stdout",
     "output_type": "stream",
     "text": [
      "+--------+\n",
      "|browser |\n",
      "+--------+\n",
      "|null    |\n",
      "|Mozilla |\n",
      "|\"Mozilla|\n",
      "+--------+\n",
      "\n"
     ]
    }
   ],
   "source": [
    "event_df = event_df.withColumn(\"browser\", F.split(\"userAgent\", '/').getItem(0))\n",
    "event_df.select(\"browser\").distinct().show(20, False)"
   ]
  },
  {
   "cell_type": "markdown",
   "metadata": {},
   "source": [
    "Seems like only mozilla used to access sparkify. Could not be important as feature."
   ]
  },
  {
   "cell_type": "markdown",
   "metadata": {},
   "source": [
    "Looking for the devices"
   ]
  },
  {
   "cell_type": "code",
   "execution_count": null,
   "metadata": {},
   "outputs": [],
   "source": [
    "substr = udf(lambda x: x[1:].strip(\" \") if x is not None else \"\",StringType())\n",
    "\n",
    "event_df = event_df.withColumn(\"device\", substr(F.split(F.split(\"userAgent\", ' ').getItem(1), ';').getItem(0)))\n",
    "event_df.select(\"device\").distinct().show(20, False)"
   ]
  },
  {
   "cell_type": "markdown",
   "metadata": {},
   "source": [
    "Sparkify is accessed using devices like: iPad, iPhone, Macintosh, Windows. Could be useful to dig deeper for churn using these devices."
   ]
  },
  {
   "cell_type": "markdown",
   "metadata": {},
   "source": [
    "#### Catgorical Variables"
   ]
  },
  {
   "cell_type": "markdown",
   "metadata": {},
   "source": [
    "Lets just look at the different type of events trgiggered by users through these categorical columns"
   ]
  },
  {
   "cell_type": "code",
   "execution_count": null,
   "metadata": {},
   "outputs": [],
   "source": [
    "def pivot_table_on_filter(df, filters):\n",
    "    \"\"\" calculates count of event after applying each filter\n",
    "        Input: \n",
    "            df - event dataframe\n",
    "            filters - list of filters to be used on df\n",
    "        Output:\n",
    "            filtered_event_count: filtered event count of each user and churn\n",
    "    \"\"\"\n",
    "    new_columns = [F.sum(F.when(f,F.lit(1)).otherwise(0)).alias(str(f).strip('Column<b''>')) for f in filters]\n",
    "    filtered_df = df\\\n",
    "        .groupby(\"userId\", \"churn\")\\\n",
    "        .agg(*new_columns)\n",
    "    \n",
    "    return filtered_df"
   ]
  },
  {
   "cell_type": "code",
   "execution_count": 15,
   "metadata": {},
   "outputs": [
    {
     "name": "stderr",
     "output_type": "stream",
     "text": [
      "/opt/conda/lib/python3.6/site-packages/seaborn/axisgrid.py:703: UserWarning: Using the boxplot function without specifying `order` is likely to produce an incorrect plot.\n",
      "  warnings.warn(warning)\n"
     ]
    },
    {
     "data": {
      "image/png": "[encoded data removed]",
      "text/plain": [
       "<matplotlib.figure.Figure at 0x7fc9875152e8>"
      ]
     },
     "metadata": {
      "needs_background": "light"
     },
     "output_type": "display_data"
    }
   ],
   "source": [
    "filters = [F.col(\"method\")=='PUT',\n",
    "           F.col(\"method\")=='GET', \n",
    "           F.col(\"status\")==404, \n",
    "           F.col(\"gender\")=='M', \n",
    "           F.col(\"gender\")=='F',\n",
    "           F.col(\"level\")=='free',\n",
    "           F.col(\"level\")=='paid',\n",
    "           F.col(\"device\")=='iPad', \n",
    "           F.col(\"device\")=='X11', \n",
    "           F.col(\"device\")=='iPhone',\n",
    "           F.col(\"device\")=='Macintosh',\n",
    "           F.col(\"device\")=='Windows',\n",
    "          ]\n",
    "\n",
    "categorical_events = pivot_table_on_filter(event_df, filters).toPandas()\n",
    "\n",
    "dfm = categorical_events.drop('userId', axis=1).melt(['churn'], var_name='filter')\n",
    "g = sns.FacetGrid(dfm, col='filter', col_wrap=4, sharey=False, sharex=True)\n",
    "g = (g.map(sns.boxplot, 'churn','value',palette='colorblind', showfliers = False))\n",
    "plt.tight_layout()\n",
    "plt.show()"
   ]
  },
  {
   "cell_type": "markdown",
   "metadata": {},
   "source": [
    "Some Observation:\n",
    "- put method is used by non-churned user more.\n",
    "- GET method is almost same among both groups.\n",
    "- status 404 is hit less by churned users.\n",
    "- Male users are more prone to churn than female users\n",
    "- paid users are less likely to churn\n",
    "- there is variation for windows device users"
   ]
  },
  {
   "cell_type": "code",
   "execution_count": 16,
   "metadata": {},
   "outputs": [
    {
     "name": "stderr",
     "output_type": "stream",
     "text": [
      "/opt/conda/lib/python3.6/site-packages/seaborn/axisgrid.py:703: UserWarning: Using the boxplot function without specifying `order` is likely to produce an incorrect plot.\n",
      "  warnings.warn(warning)\n"
     ]
    },
    {
     "data": {
      "image/png": "[encoded data removed]",
      "text/plain": [
       "<matplotlib.figure.Figure at 0x7fc9845a54e0>"
      ]
     },
     "metadata": {
      "needs_background": "light"
     },
     "output_type": "display_data"
    }
   ],
   "source": [
    "page_events = event_df.groupby(\"userId\").pivot(\"page\").count().fillna(0).drop(\"Cancellation Confirmation\")\n",
    "churn_data = event_df.select(\"userId\", \"churn\").distinct()\n",
    "page_events = page_events.join(churn_data, ['userId']).toPandas()\n",
    "\n",
    "dfm = page_events.drop('userId', axis=1).melt(['churn'], var_name='page')\n",
    "g = sns.FacetGrid(dfm, col='page', col_wrap=4, sharey=False, sharex=True)\n",
    "g = (g.map(sns.boxplot, 'churn','value',palette='colorblind', showfliers = False))\n",
    "\n",
    "plt.tight_layout()\n",
    "plt.show()"
   ]
  },
  {
   "cell_type": "markdown",
   "metadata": {},
   "source": [
    "Some Observation\n",
    "1. churned users are less likely to visit :\n",
    "    - \"About\", \n",
    "    - \"Add Friend\", \n",
    "    - \"Add to Playlist\", \n",
    "    - 'Downgrade', \n",
    "    - 'Error', \n",
    "    - 'Help', \n",
    "    - 'Home', \n",
    "    - 'NextSong', \n",
    "    - 'Settings', \n",
    "    - 'Thumbs Up'\n",
    "    \n",
    "2. and more likely to visit:\n",
    "    - 'Roll Advert',\n",
    "    - 'Upgrade'"
   ]
  },
  {
   "cell_type": "markdown",
   "metadata": {},
   "source": [
    "#### Numerical Columns"
   ]
  },
  {
   "cell_type": "code",
   "execution_count": 17,
   "metadata": {},
   "outputs": [
    {
     "name": "stderr",
     "output_type": "stream",
     "text": [
      "/opt/conda/lib/python3.6/site-packages/seaborn/axisgrid.py:703: UserWarning: Using the boxplot function without specifying `order` is likely to produce an incorrect plot.\n",
      "  warnings.warn(warning)\n"
     ]
    },
    {
     "data": {
      "image/png": "[encoded data removed]",
      "text/plain": [
       "<matplotlib.figure.Figure at 0x7fc97f61e6d8>"
      ]
     },
     "metadata": {
      "needs_background": "light"
     },
     "output_type": "display_data"
    }
   ],
   "source": [
    "numerical_df = event_df.groupby(\"churn\", \"userId\")\\\n",
    "    .agg(F.countDistinct(\"sessionId\").alias(\"total_sessions\"), \n",
    "         F.sum(F.when(F.col(\"page\") == \"NextSong\", 1).otherwise(0)).alias(\"number_of_song_played\"),\n",
    "         F.sum(\"length\").alias(\"total_time_played\"),\n",
    "         F.expr(\"max(distinct(sessionId, itemInSession).itemInSession) as max_session_item\"),\n",
    "         F.mean(\"length\").alias(\"avg_song_length\"),\n",
    "         ((F.max(\"ts\")-F.min(\"ts\"))/(24*60*60*1000)).alias(\"active_days\")\n",
    "        )\\\n",
    "    .withColumn(\"songs_per_session\", F.col(\"number_of_song_played\")/F.col(\"total_sessions\")).toPandas()\n",
    "\n",
    "dfm = numerical_df.drop('userId', axis=1).melt(['churn'], var_name='column')\n",
    "g = sns.FacetGrid(dfm, col='column', col_wrap=4, sharey=False, sharex=False)\n",
    "g = (g.map(sns.boxplot, 'churn','value',palette='colorblind', showfliers = False))\n",
    "\n",
    "plt.tight_layout()\n",
    "plt.show()"
   ]
  },
  {
   "cell_type": "markdown",
   "metadata": {},
   "source": [
    "Observations:\n",
    "- less sessions are created by churned users\n",
    "- less songs are played by churned users\n",
    "- consequently less total play time of churned users\n",
    "- also the churn users has less items in a session\n",
    "- there is a lot of variation in song lenght of churn users\n",
    "- active days is very low for churn users\n",
    "- overall the the activity/interaction with key features of sparkify is less for churned users"
   ]
  },
  {
   "cell_type": "markdown",
   "metadata": {},
   "source": [
    "# Feature Engineering\n",
    "Once you've familiarized yourself with the data, build out the features you find promising to train your model on. To work with the full dataset, you can follow the following steps.\n",
    "- Write a script to extract the necessary features from the smaller subset of data\n",
    "- Ensure that your script is scalable, using the best practices discussed in Lesson 3\n",
    "- Try your script on the full data set, debugging your script if necessary\n",
    "\n",
    "If you are working in the classroom workspace, you can just extract features based on the small subset of data contained here. Be sure to transfer over this work to the larger dataset when you work on your Spark cluster."
   ]
  },
  {
   "cell_type": "markdown",
   "metadata": {},
   "source": [
    "Based on the EDA, I have chosen following Feature lists:\n",
    "     1. Page visit count features\n",
    "        - about page visit count\n",
    "        - add friend visit count\n",
    "        - Add to playlist visit count\n",
    "        - Downgrade page visit count\n",
    "        - Error page visit count\n",
    "        - home page visit count\n",
    "        - roll advert count\n",
    "        - help page visit count\n",
    "        - settings page visit count\n",
    "        - thumps up count\n",
    "        - Upgrade count\n",
    "    2. Key activity features\n",
    "        - total_sessions\n",
    "        - number of songs played\n",
    "        - total time spent playing songs\n",
    "        - maximum number of activity in a session\n",
    "        - average length of song played\n",
    "        - active days on the platform\n",
    "        - average number of song played per session\n",
    "        - songs played in free tier\n",
    "        - songs played in paid tier\n",
    "    3. Other features\n",
    "        - faced 404 status code\n",
    "        - weather PUT method used\n",
    "        - user's gender\n",
    "        - device used \n",
    "   "
   ]
  },
  {
   "cell_type": "markdown",
   "metadata": {},
   "source": [
    "1. Page visit count features"
   ]
  },
  {
   "cell_type": "code",
   "execution_count": 18,
   "metadata": {},
   "outputs": [],
   "source": [
    "def calc_page_visit_features(df):\n",
    "    \"\"\" calculation of page visit count features\n",
    "        Input: \n",
    "            df - event dataframe with page and userId\n",
    "        Output:\n",
    "            page_visit_features: page visit feature by each user\n",
    "    \"\"\"\n",
    "    page_visit_features = df.groupby(\"userId\")\\\n",
    "        .pivot(\"page\")\\\n",
    "        .count()\\\n",
    "        .fillna(0)\\\n",
    "        .select(\"userId\", \n",
    "              \"About\", \n",
    "              \"Add Friend\", \n",
    "              \"Add to Playlist\", \n",
    "              'Downgrade', \n",
    "              'Error', \n",
    "              'Help', \n",
    "              'Home', \n",
    "              'Roll Advert', \n",
    "              'Settings', \n",
    "              'Thumbs Up', \n",
    "              'Upgrade')\n",
    "    return page_visit_features"
   ]
  },
  {
   "cell_type": "markdown",
   "metadata": {},
   "source": [
    "2. Key activity features"
   ]
  },
  {
   "cell_type": "code",
   "execution_count": 19,
   "metadata": {},
   "outputs": [],
   "source": [
    "def calc_activity_feature(df):\n",
    "    \"\"\" calculation of key activity features\n",
    "        Input: \n",
    "            df - event dataframe\n",
    "        Output:\n",
    "            key_activity_features: key_activity_features of each user\n",
    "    \"\"\"\n",
    "    activity_feature = df.groupby(\"userId\")\\\n",
    "        .agg(F.countDistinct(\"sessionId\").alias(\"total_sessions\"), \n",
    "             F.sum(F.when(F.col(\"page\") == \"NextSong\", 1).otherwise(0)).alias(\"number_of_song_played\"),\n",
    "             F.sum(\"length\").alias(\"total_time_played\"),\n",
    "             F.expr(\"max(distinct(sessionId, itemInSession).itemInSession) as max_session_item\"),\n",
    "             F.mean(\"length\").alias(\"avg_song_length\"),\n",
    "             ((F.max(\"ts\")-F.min(\"ts\"))/(24*60*60*1000)).alias(\"active_days\")\n",
    "            )\\\n",
    "        .withColumn(\"songs_per_session\", F.col(\"number_of_song_played\")/F.col(\"total_sessions\"))\n",
    "    \n",
    "    \n",
    "    free_song_played = df.filter(F.col(\"page\")==\"NextSong\")\\\n",
    "                        .filter(F.col(\"level\")==\"free\")\\\n",
    "                        .groupby(\"userId\").count()\\\n",
    "                        .withColumnRenamed(\"count\", \"free_song_played\")\n",
    "    \n",
    "    paid_song_played = df.filter(F.col(\"page\")==\"NextSong\")\\\n",
    "                        .filter(F.col(\"level\")==\"paid\")\\\n",
    "                        .groupby(\"userId\").count()\\\n",
    "                        .withColumnRenamed(\"count\", \"paid_song_played\")\n",
    "    \n",
    "    key_activity_features = activity_feature\\\n",
    "                                .join(free_song_played, \"userId\")\\\n",
    "                                .join(paid_song_played, \"userId\")\\\n",
    "                                .fillna(0)\n",
    "    \n",
    "    return key_activity_features"
   ]
  },
  {
   "cell_type": "markdown",
   "metadata": {},
   "source": [
    "3. Other features\n",
    "    - times faced 404 status code\n",
    "    - times PUT method used\n",
    "    - device used "
   ]
  },
  {
   "cell_type": "code",
   "execution_count": 20,
   "metadata": {},
   "outputs": [],
   "source": [
    "def pivot_table_on_filter(df, filters):\n",
    "    \"\"\" calculates count of event after applying each filter\n",
    "        Input: \n",
    "            df - event dataframe\n",
    "            filters - list of filters to be used on df\n",
    "        Output:\n",
    "            filtered_event_count: filtered event count of each user\n",
    "    \"\"\"\n",
    "    new_columns = [F.sum(F.when(f,F.lit(1)).otherwise(0)).alias(str(f).strip(\"Column<b'( )'>\")) for f in filters]\n",
    "    filtered_event_count = df\\\n",
    "        .groupby(\"userId\")\\\n",
    "        .agg(*new_columns)\\\n",
    "        .fillna(0)\n",
    "    \n",
    "    return filtered_event_count\n",
    "\n",
    "def calc_device_features(df):\n",
    "    \"\"\" calculation of device feature, method used and 404 status features\n",
    "        Input: \n",
    "            df - event dataframe\n",
    "        Output:\n",
    "            device_features: device features of each user\n",
    "    \"\"\"\n",
    "    filters = [F.col(\"method\")=='PUT',\n",
    "               F.col(\"status\")==404,\n",
    "               F.col(\"device\")=='iPad', \n",
    "               F.col(\"device\")=='X11', \n",
    "               F.col(\"device\")=='iPhone',\n",
    "               F.col(\"device\")=='Macintosh',\n",
    "               F.col(\"device\")=='Windows',\n",
    "              ]\n",
    "\n",
    "    device_features = pivot_table_on_filter(df, filters)\n",
    "\n",
    "    device_columns = ['device = iPad', 'device = X11', 'device = iPhone', 'device = Macintosh', 'device = Windows']\n",
    "    for col in device_columns:\n",
    "        device_features = device_features.withColumn(col, F.when(F.col(col) > 0, F.lit(1)).otherwise(F.lit(0)))\n",
    "\n",
    "    return device_features"
   ]
  },
  {
   "cell_type": "markdown",
   "metadata": {},
   "source": [
    "Combining all 3 sets of features"
   ]
  },
  {
   "cell_type": "code",
   "execution_count": 21,
   "metadata": {},
   "outputs": [],
   "source": [
    "def calc_features(df):\n",
    "    \"\"\" a wrapper function which combines all 3 set of features\n",
    "        Input: \n",
    "            df - event dataframe\n",
    "        Output:\n",
    "            final_features: final feature after combining page visit features,\n",
    "                            activity features, device features, churn data\n",
    "    \"\"\"\n",
    "    churn_data = df.select(\"userId\", \"churn\").distinct()\n",
    "    page_visit_features = calc_page_visit_features(df)\n",
    "    activity_feature = calc_activity_feature(df)\n",
    "    device_features = calc_device_features(df)\n",
    "    \n",
    "    final_features = page_visit_features\\\n",
    "                        .join(activity_feature, \"userId\")\\\n",
    "                        .join(device_features, \"userId\")\\\n",
    "                        .join(churn_data, \"userId\")\\\n",
    "                        .fillna(0)\n",
    "    \n",
    "    return final_features"
   ]
  },
  {
   "cell_type": "code",
   "execution_count": 22,
   "metadata": {},
   "outputs": [],
   "source": [
    "features = calc_features(event_df)"
   ]
  },
  {
   "cell_type": "markdown",
   "metadata": {},
   "source": [
    "# Modeling\n",
    "Split the full dataset into train, test, and validation sets. Test out several of the machine learning methods you learned. Evaluate the accuracy of the various models, tuning parameters as necessary. Determine your winning model based on test accuracy and report results on the validation set. Since the churned users are a fairly small subset, I suggest using F1 score as the metric to optimize."
   ]
  },
  {
   "cell_type": "code",
   "execution_count": 23,
   "metadata": {},
   "outputs": [],
   "source": [
    "# spliting data into test and train\n",
    "features = features.withColumnRenamed('churn', 'label')\n",
    "training, test = features.randomSplit([0.8, 0.2])"
   ]
  },
  {
   "cell_type": "code",
   "execution_count": 24,
   "metadata": {},
   "outputs": [
    {
     "name": "stdout",
     "output_type": "stream",
     "text": [
      "root\n",
      " |-- userId: string (nullable = true)\n",
      " |-- About: long (nullable = true)\n",
      " |-- Add Friend: long (nullable = true)\n",
      " |-- Add to Playlist: long (nullable = true)\n",
      " |-- Downgrade: long (nullable = true)\n",
      " |-- Error: long (nullable = true)\n",
      " |-- Help: long (nullable = true)\n",
      " |-- Home: long (nullable = true)\n",
      " |-- Roll Advert: long (nullable = true)\n",
      " |-- Settings: long (nullable = true)\n",
      " |-- Thumbs Up: long (nullable = true)\n",
      " |-- Upgrade: long (nullable = true)\n",
      " |-- total_sessions: long (nullable = false)\n",
      " |-- number_of_song_played: long (nullable = true)\n",
      " |-- total_time_played: double (nullable = false)\n",
      " |-- max_session_item: long (nullable = true)\n",
      " |-- avg_song_length: double (nullable = false)\n",
      " |-- active_days: double (nullable = false)\n",
      " |-- songs_per_session: double (nullable = false)\n",
      " |-- free_song_played: long (nullable = false)\n",
      " |-- paid_song_played: long (nullable = false)\n",
      " |-- ethod = PUT: long (nullable = true)\n",
      " |-- status = 404: long (nullable = true)\n",
      " |-- device = iPad: integer (nullable = false)\n",
      " |-- device = X11: integer (nullable = false)\n",
      " |-- device = iPhone: integer (nullable = false)\n",
      " |-- device = Macintosh: integer (nullable = false)\n",
      " |-- device = Windows: integer (nullable = false)\n",
      " |-- label: integer (nullable = true)\n",
      "\n"
     ]
    }
   ],
   "source": [
    "features.printSchema()"
   ]
  },
  {
   "cell_type": "code",
   "execution_count": 25,
   "metadata": {},
   "outputs": [],
   "source": [
    "# Create vector from feature data\n",
    "feature_names = features.drop('label', 'userId').columns\n",
    "vec_asembler = VectorAssembler(inputCols = feature_names, outputCol = \"features\")\n",
    "\n",
    "# Scaling features\n",
    "scalar = MinMaxScaler(inputCol=\"features\", outputCol=\"scaled_features\")\n",
    "\n",
    "# definining classifiers\n",
    "\n",
    "dt = DecisionTreeClassifier(labelCol=\"label\", \n",
    "                            featuresCol=\"scaled_features\")\n",
    "\n",
    "rf = RandomForestClassifier(featuresCol=\"scaled_features\", labelCol=\"label\",\n",
    "                                numTrees = 40,  featureSubsetStrategy='sqrt')\n",
    "\n",
    "lr = LogisticRegression(featuresCol=\"scaled_features\", labelCol=\"label\", \n",
    "                        maxIter=20, regParam=0.02)\n",
    "\n",
    "gbt = GBTClassifier(featuresCol=\"scaled_features\", labelCol=\"label\")\n",
    "\n",
    "nb = NaiveBayes(smoothing=1.0, modelType=\"multinomial\")\n",
    "\n",
    "\n",
    "# Constructing Pipelines\n",
    "pipeline_dt = Pipeline(stages=[vec_asembler, scalar, dt])\n",
    "pipeline_rf = Pipeline(stages=[vec_asembler, scalar, rf])\n",
    "pipeline_lr = Pipeline(stages=[vec_asembler, scalar, lr])\n",
    "pipeline_gbt = Pipeline(stages=[vec_asembler, scalar, gbt])\n",
    "pipeline_nb = Pipeline(stages=[vec_asembler, scalar, nb])\n",
    "\n",
    "pipelines = [('decision Tree', pipeline_dt),\n",
    "             ('random forest', pipeline_rf), \n",
    "             ('logistic regression', pipeline_lr),\n",
    "             ('gradient boosting tree', pipeline_gbt),\n",
    "             ('naive bayes', pipeline_nb)]"
   ]
  },
  {
   "cell_type": "markdown",
   "metadata": {},
   "source": [
    "VectorAssembler doesn't handle null values, be sure to remove/fill naa values. I have filled it with 0 as my features are mostly counter/avg features and it makes sense to fill with 0."
   ]
  },
  {
   "cell_type": "code",
   "execution_count": 26,
   "metadata": {},
   "outputs": [],
   "source": [
    "fitted_models = [(name, pipe.fit(training)) for name, pipe in pipelines]"
   ]
  },
  {
   "cell_type": "markdown",
   "metadata": {},
   "source": [
    "# Results"
   ]
  },
  {
   "cell_type": "markdown",
   "metadata": {},
   "source": [
    "## Model Evaluation and Validation\n",
    "If a model is used, the following should hold: The final model’s qualities — such as parameters — are evaluated in detail.\n",
    "\n",
    "Some type of analysis is used to validate the robustness of the model’s solution. For example, you can use cross-validation to find the best parameters.\n",
    "\n",
    "Show and compare the results using different models, parameters, or techniques in tabular forms or charts.\n",
    "\n",
    "Alternatively, a student may choose to answer questions with data visualizations or other means that don't involve machine learning if a different approach best helps them address their question(s) of interest."
   ]
  },
  {
   "cell_type": "code",
   "execution_count": 27,
   "metadata": {},
   "outputs": [],
   "source": [
    "def evaluate_model(model, metric_name, test_data):\n",
    "    \"\"\" Evaluation of model performance\n",
    "        Input: \n",
    "            model - fitted model pipeline which can transform data\n",
    "            metric_name - the metric to be used for model evaluation\n",
    "            test_data - data/feature for the test set\n",
    "        Output:\n",
    "            score: the metric value on test_data\n",
    "    \"\"\"\n",
    "    evaluator = MulticlassClassificationEvaluator(metricName = metric_name)\n",
    "    predictions = model.transform(test_data)\n",
    "    score = evaluator.evaluate(predictions)\n",
    "    \n",
    "    return score"
   ]
  },
  {
   "cell_type": "code",
   "execution_count": 28,
   "metadata": {},
   "outputs": [
    {
     "data": {
      "text/html": [
       "<div>\n",
       "<style scoped>\n",
       "    .dataframe tbody tr th:only-of-type {\n",
       "        vertical-align: middle;\n",
       "    }\n",
       "\n",
       "    .dataframe tbody tr th {\n",
       "        vertical-align: top;\n",
       "    }\n",
       "\n",
       "    .dataframe thead th {\n",
       "        text-align: right;\n",
       "    }\n",
       "</style>\n",
       "<table border=\"1\" class=\"dataframe\">\n",
       "  <thead>\n",
       "    <tr style=\"text-align: right;\">\n",
       "      <th></th>\n",
       "      <th>model</th>\n",
       "      <th>test F1</th>\n",
       "      <th>train F1</th>\n",
       "    </tr>\n",
       "  </thead>\n",
       "  <tbody>\n",
       "    <tr>\n",
       "      <th>0</th>\n",
       "      <td>decision Tree</td>\n",
       "      <td>0.869658</td>\n",
       "      <td>1.000000</td>\n",
       "    </tr>\n",
       "    <tr>\n",
       "      <th>1</th>\n",
       "      <td>random forest</td>\n",
       "      <td>0.782764</td>\n",
       "      <td>0.981545</td>\n",
       "    </tr>\n",
       "    <tr>\n",
       "      <th>2</th>\n",
       "      <td>logistic regression</td>\n",
       "      <td>0.798321</td>\n",
       "      <td>0.943710</td>\n",
       "    </tr>\n",
       "    <tr>\n",
       "      <th>3</th>\n",
       "      <td>gradient boosting tree</td>\n",
       "      <td>0.869658</td>\n",
       "      <td>1.000000</td>\n",
       "    </tr>\n",
       "    <tr>\n",
       "      <th>4</th>\n",
       "      <td>naive bayes</td>\n",
       "      <td>0.622396</td>\n",
       "      <td>0.588513</td>\n",
       "    </tr>\n",
       "  </tbody>\n",
       "</table>\n",
       "</div>"
      ],
      "text/plain": [
       "                    model   test F1  train F1\n",
       "0           decision Tree  0.869658  1.000000\n",
       "1           random forest  0.782764  0.981545\n",
       "2     logistic regression  0.798321  0.943710\n",
       "3  gradient boosting tree  0.869658  1.000000\n",
       "4             naive bayes  0.622396  0.588513"
      ]
     },
     "execution_count": 28,
     "metadata": {},
     "output_type": "execute_result"
    }
   ],
   "source": [
    "# looping through each models and printing metric\n",
    "test_scores = []\n",
    "train_scores = []\n",
    "model_name =[]\n",
    "\n",
    "for name, model in fitted_models:\n",
    "    test_metric = evaluate_model(model, 'f1', test)\n",
    "    train_metric = evaluate_model(model, 'f1', training)\n",
    "    test_scores.append(test_metric)\n",
    "    train_scores.append(train_metric)\n",
    "    model_name.append(name)\n",
    "    \n",
    "results = pd.DataFrame({\"model\": model_name,\n",
    "                        \"test F1\":  test_scores,\n",
    "                        \"train F1\": train_scores})\n",
    "\n",
    "results"
   ]
  },
  {
   "cell_type": "markdown",
   "metadata": {},
   "source": [
    "- Decision Tree and Gradient boosting method have almost same accuracy.\n",
    "- logistic reg has average f1 score.\n",
    "- While naive bayes is suffering a lot in terms of F1 score.\n",
    "- Gradient boosting method is giving better result of 0.86 f1 score, \n",
    "\n",
    "Looking at the confusion matrix for Gradient boosting tree."
   ]
  },
  {
   "cell_type": "code",
   "execution_count": 33,
   "metadata": {},
   "outputs": [
    {
     "data": {
      "text/html": [
       "<div>\n",
       "<style scoped>\n",
       "    .dataframe tbody tr th:only-of-type {\n",
       "        vertical-align: middle;\n",
       "    }\n",
       "\n",
       "    .dataframe tbody tr th {\n",
       "        vertical-align: top;\n",
       "    }\n",
       "\n",
       "    .dataframe thead th {\n",
       "        text-align: right;\n",
       "    }\n",
       "</style>\n",
       "<table border=\"1\" class=\"dataframe\">\n",
       "  <thead>\n",
       "    <tr style=\"text-align: right;\">\n",
       "      <th></th>\n",
       "      <th>label</th>\n",
       "      <th>0.0</th>\n",
       "      <th>1.0</th>\n",
       "    </tr>\n",
       "  </thead>\n",
       "  <tbody>\n",
       "    <tr>\n",
       "      <th>0</th>\n",
       "      <td>1</td>\n",
       "      <td>3</td>\n",
       "      <td>2</td>\n",
       "    </tr>\n",
       "    <tr>\n",
       "      <th>1</th>\n",
       "      <td>0</td>\n",
       "      <td>17</td>\n",
       "      <td>2</td>\n",
       "    </tr>\n",
       "  </tbody>\n",
       "</table>\n",
       "</div>"
      ],
      "text/plain": [
       "   label  0.0  1.0\n",
       "0      1    3    2\n",
       "1      0   17    2"
      ]
     },
     "execution_count": 33,
     "metadata": {},
     "output_type": "execute_result"
    }
   ],
   "source": [
    "# extract gbt model\n",
    "name, gbt_model = fitted_models[3]\n",
    "# get the predictions on test data\n",
    "predictions = rf_model.transform(test)\n",
    "\n",
    "# calculate confusion matrix\n",
    "confusion_matrix = predictions.groupby(\"label\")\\\n",
    "                                   .pivot(\"prediction\")\\\n",
    "                                   .count()\\\n",
    "                                   .toPandas()\n",
    "\n",
    "confusion_matrix"
   ]
  },
  {
   "cell_type": "markdown",
   "metadata": {},
   "source": [
    "There are some 5 misclassification where, 3 of which churned users were predicted wrong and in 2 users were predicted churned. "
   ]
  },
  {
   "cell_type": "markdown",
   "metadata": {},
   "source": [
    "### Cross validation"
   ]
  },
  {
   "cell_type": "markdown",
   "metadata": {},
   "source": [
    "Since the gradient boosting tree has given better f1 score.\n",
    "Parameters of gradient boosting tree:\n",
    "- maxDepth – Max number of levels in each decision tree\n",
    "\n",
    "For cross validation maxDepth would be good enough"
   ]
  },
  {
   "cell_type": "code",
   "execution_count": 35,
   "metadata": {},
   "outputs": [
    {
     "name": "stdout",
     "output_type": "stream",
     "text": [
      " F1 Score from cross validation: 0.8696581196581197\n"
     ]
    }
   ],
   "source": [
    "# creating param grid for gbt model\n",
    "param_grid = ParamGridBuilder()\\\n",
    "                .addGrid(gbt.maxDepth, [int(x) for x in np.linspace(start = 3, stop = 7, num = 3)]) \\\n",
    "                .build()\n",
    "\n",
    "# model evaluator with F1 score as metric\n",
    "model_evaluator = MulticlassClassificationEvaluator(metricName = 'f1')\n",
    "\n",
    "# initializing cross validator with paramgrid, model pipline and model_evaluator\n",
    "crossval = CrossValidator(estimator=pipeline_gbt,\n",
    "                          estimatorParamMaps=param_grid,\n",
    "                          evaluator=model_evaluator,\n",
    "                          numFolds=3)\n",
    "\n",
    "# fitting model on train data\n",
    "cv_model = crossval.fit(training)\n",
    "\n",
    "# calculating the F1 score on test data\n",
    "metric = evaluate_model(cv_model, 'f1', test)\n",
    "print(f\" F1 Score from cross validation: {metric}\")"
   ]
  },
  {
   "cell_type": "markdown",
   "metadata": {},
   "source": [
    "### Feature Importance"
   ]
  },
  {
   "cell_type": "code",
   "execution_count": 36,
   "metadata": {},
   "outputs": [
    {
     "data": {
      "image/png": "[encoded data removed]",
      "text/plain": [
       "<matplotlib.figure.Figure at 0x7fc9845bb978>"
      ]
     },
     "metadata": {},
     "output_type": "display_data"
    }
   ],
   "source": [
    "# best cv model\n",
    "best_model_pipeline = cv_model.bestModel\n",
    "\n",
    "# best model\n",
    "best_model = best_model_pipeline.stages[-1]\n",
    "\n",
    "# feature importance\n",
    "importances = best_model.featureImportances\n",
    "\n",
    "# making feature importance dataframe\n",
    "feature_importance = pd.DataFrame({'Importance': importances,\n",
    "                                   'feature': feature_names})\\\n",
    "                        .sort_values(by = 'Importance', ascending = False)\n",
    "\n",
    "sns.set(rc={'figure.figsize':(11, 4)})\n",
    "sns.barplot(x=\"feature\", y=\"Importance\", data=feature_importance)\n",
    "plt.xticks(rotation = 90)\n",
    "plt.ylabel('Importance')\n",
    "plt.xlabel('Feature')\n",
    "plt.show()"
   ]
  },
  {
   "cell_type": "markdown",
   "metadata": {},
   "source": [
    "### Best gbt model"
   ]
  },
  {
   "cell_type": "code",
   "execution_count": 37,
   "metadata": {},
   "outputs": [
    {
     "name": "stdout",
     "output_type": "stream",
     "text": [
      "maxDepth -  3\n"
     ]
    }
   ],
   "source": [
    "print('maxDepth - ', best_rf_model.getOrDefault('maxDepth'))"
   ]
  },
  {
   "cell_type": "markdown",
   "metadata": {},
   "source": [
    "## Justification\n",
    "\n",
    "After running the cross validation we can see that:\n",
    "- Gradient Boosting Tree gives F1 score of 0.8696581196581197\n",
    "- best maxDepth was found to be 3\n",
    "- On feature side active_days, total_sessions, avg_song_length, About page visit count etc were found to be most important feature and number of song played, paid song played, Error page visit, device=Windows to be least important feature.\n"
   ]
  },
  {
   "cell_type": "markdown",
   "metadata": {},
   "source": [
    "# Conclusion"
   ]
  },
  {
   "cell_type": "markdown",
   "metadata": {},
   "source": [
    "## Reflection\n",
    "\n",
    "Churn prediction is an important problem in industry. It is not a surprise that old customers bring more revenue to a brand than a new customer. Adding to that acquiring customer is equally costly. In this project I have made a model for churn prediction of a music company, 'Sparkify' which provides music streaming services.\n",
    "\n",
    "On Trying with 5 different models, I have seen that Gradient boosting method appears to work best as its f1 score is better than other options. \n",
    "\n",
    "From feature importance we can see that active_days, total_sessions, avg_song_length, About page visit count etc were found to be most important feature and number of song played, paid song played, Error page visit, device=Windows to be least important feature. \n",
    "\n",
    "Spark ML is a very powerful tool for machine learning. It provides all the model, feature transformation we can use for various types of problem statements. Like sklearn, we can build pipelines here and do cross validation in a distributed way. Thus, it provides end to end model development lifecycle in a distributed way. This can be particularly useful if we have 100s of gigabytes of data."
   ]
  },
  {
   "cell_type": "markdown",
   "metadata": {},
   "source": [
    "## Improvement\n",
    "\n",
    "Since we now know the most important features, we can try training on the subset of the total features sorted in descending order of importance. This will reduce time and should get the same accuracy. It will also make the model lighter.\n",
    "\n",
    "More features can be added to the model, like user artist interaction, or how many times user has played a popular/trending song."
   ]
  },
  {
   "cell_type": "markdown",
   "metadata": {},
   "source": [
    "# Final Steps\n",
    "Clean up your code, adding comments and renaming variables to make the code easier to read and maintain. Refer to the Spark Project Overview page and Data Scientist Capstone Project Rubric to make sure you are including all components of the capstone project and meet all expectations. Remember, this includes thorough documentation in a README file in a Github repository, as well as a web app or blog post."
   ]
  },
  {
   "cell_type": "code",
   "execution_count": null,
   "metadata": {},
   "outputs": [],
   "source": []
  }
 ],
 "metadata": {
  "kernelspec": {
   "display_name": "Python 3",
   "language": "python",
   "name": "python3"
  },
  "language_info": {
   "codemirror_mode": {
    "name": "ipython",
    "version": 3
   },
   "file_extension": ".py",
   "mimetype": "text/x-python",
   "name": "python",
   "nbconvert_exporter": "python",
   "pygments_lexer": "ipython3",
   "version": "3.7.6"
  }
 },
 "nbformat": 4,
 "nbformat_minor": 2
}
